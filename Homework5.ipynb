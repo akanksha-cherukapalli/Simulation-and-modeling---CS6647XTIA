{
  "nbformat": 4,
  "nbformat_minor": 0,
  "metadata": {
    "colab": {
      "provenance": [],
      "authorship_tag": "ABX9TyO8LaK6N2FFaRobrCknEs1i",
      "include_colab_link": true
    },
    "kernelspec": {
      "name": "python3",
      "display_name": "Python 3"
    },
    "language_info": {
      "name": "python"
    }
  },
  "cells": [
    {
      "cell_type": "markdown",
      "metadata": {
        "id": "view-in-github",
        "colab_type": "text"
      },
      "source": [
        "<a href=\"https://colab.research.google.com/github/akanksha-cherukapalli/Simulation-and-modeling---CS6647XTIA/blob/main/Homework5.ipynb\" target=\"_parent\"><img src=\"https://colab.research.google.com/assets/colab-badge.svg\" alt=\"Open In Colab\"/></a>"
      ]
    },
    {
      "cell_type": "code",
      "source": [
        "Activity_state = {\n",
        "    0: 'rest',\n",
        "    1: 'sweeties',\n",
        "    2: 'exercises'\n",
        "}\n",
        "\n",
        "state = Activity_state\n",
        "print(state)\n"
      ],
      "metadata": {
        "colab": {
          "base_uri": "https://localhost:8080/"
        },
        "id": "JergT6X8ymSX",
        "outputId": "fd92c0fd-58df-48b2-9097-cd1591b5ee68"
      },
      "execution_count": 6,
      "outputs": [
        {
          "output_type": "stream",
          "name": "stdout",
          "text": [
            "{0: 'rest', 1: 'sweeties', 2: 'exercises'}\n"
          ]
        }
      ]
    },
    {
      "cell_type": "markdown",
      "source": [
        "The transition matrix ( for the given state diagram) is as follows:"
      ],
      "metadata": {
        "id": "0PLI1wIbzGiq"
      }
    },
    {
      "cell_type": "code",
      "source": [
        "import numpy as np\n",
        "\n",
        "transition_matrix = np.array([[0.2, 0.2, 0.6],\n",
        "                             [0.2, 0.1, 0.7],\n",
        "                             [0.1, 0.3, 0.6]])\n",
        "\n",
        "print(transition_matrix)\n"
      ],
      "metadata": {
        "colab": {
          "base_uri": "https://localhost:8080/"
        },
        "id": "NyVmXwE1zHim",
        "outputId": "71f58326-cb28-4a79-948c-9cb7f3df3317"
      },
      "execution_count": 8,
      "outputs": [
        {
          "output_type": "stream",
          "name": "stdout",
          "text": [
            "[[0.2 0.2 0.6]\n",
            " [0.2 0.1 0.7]\n",
            " [0.1 0.3 0.6]]\n"
          ]
        }
      ]
    },
    {
      "cell_type": "markdown",
      "source": [
        "The random walk can be:"
      ],
      "metadata": {
        "id": "h8Mkv_XN0Oht"
      }
    },
    {
      "cell_type": "code",
      "source": [
        "n = 15\n",
        "starting_state = 0\n",
        "previous_state = starting_state\n",
        "\n",
        "# Performing the random walk\n",
        "for i in range(n):\n",
        "    current_state = np.random.choice([0, 1, 2], p=transition_matrix[previous_state])\n",
        "    print(Activity_state[current_state], \"---->\", end=\"\")\n",
        "    # Update the previous state\n",
        "    previous_state = current_state"
      ],
      "metadata": {
        "colab": {
          "base_uri": "https://localhost:8080/"
        },
        "id": "NkZSLDdS0XHo",
        "outputId": "0894c1ba-a646-4ab0-bd2f-348e32b69527"
      },
      "execution_count": 10,
      "outputs": [
        {
          "output_type": "stream",
          "name": "stdout",
          "text": [
            "rest ---->exercises ---->rest ---->exercises ---->exercises ---->exercises ---->rest ---->rest ---->rest ---->sweeties ---->exercises ---->rest ---->sweeties ---->exercises ---->sweeties ---->"
          ]
        }
      ]
    },
    {
      "cell_type": "markdown",
      "source": [
        "The starting state is Rest. Calculate the probability of possible activity on the 15th day.\n",
        "What about the state and probability after 10000 days?"
      ],
      "metadata": {
        "id": "iyJzlTt60lvU"
      }
    },
    {
      "cell_type": "code",
      "source": [
        "import numpy as np\n",
        "\n",
        "# Transition matrix\n",
        "transition_matrix = np.array([[0.2, 0.2, 0.6],\n",
        "                             [0.2, 0.1, 0.7],\n",
        "                             [0.1, 0.3, 0.6]])\n",
        "\n",
        "# Starting state vector\n",
        "start_state = np.array([1, 0, 0])  # Rest is the starting state\n",
        "\n",
        "# Calculating probability after 15 days\n",
        "prob_15_days = start_state @ np.linalg.matrix_power(transition_matrix, 15)\n",
        "\n",
        "# Calculating probability after 10,000 days\n",
        "prob_10000_days = start_state @ np.linalg.matrix_power(transition_matrix, 10000)\n",
        "\n",
        "# Printing the respective probabilities\n",
        "print(\"Probability of activities on the 15th day:\")\n",
        "print(\"Rest:\", prob_15_days[0])\n",
        "print(\"Sweeties:\", prob_15_days[1])\n",
        "print(\"Exercises:\", prob_15_days[2])\n",
        "\n",
        "# Printing the respective probabilities\n",
        "print(\"\\nProbability of activities after 10,000 days:\")\n",
        "print(\"Rest:\", prob_10000_days[0])\n",
        "print(\"Sweeties:\", prob_10000_days[1])\n",
        "print(\"Exercises:\", prob_10000_days[2])\n"
      ],
      "metadata": {
        "colab": {
          "base_uri": "https://localhost:8080/"
        },
        "id": "OGdnEXH60sRL",
        "outputId": "386d197b-3418-432b-890a-9722a4c0e1e3"
      },
      "execution_count": 11,
      "outputs": [
        {
          "output_type": "stream",
          "name": "stdout",
          "text": [
            "Probability of activities on the 15th day:\n",
            "Rest: 0.13761467889913795\n",
            "Sweeties: 0.23853211009159786\n",
            "Exercises: 0.6238532110092636\n",
            "\n",
            "Probability of activities after 10,000 days:\n",
            "Rest: 0.13761467889903567\n",
            "Sweeties: 0.2385321100916618\n",
            "Exercises: 0.6238532110089617\n"
          ]
        }
      ]
    },
    {
      "cell_type": "markdown",
      "source": [
        "3. What do you observe from the above two?"
      ],
      "metadata": {
        "id": "QRS3kJoL1HBF"
      }
    },
    {
      "cell_type": "markdown",
      "source": [
        "Upon observation, we can notice that as the number of days increases, the probabilities of being in each state tend to stabilize. After a long duration, such as 10,000 days in this case, the probabilities converge to certain values. It indicates that the system reaches a steady distribution. Notably, the probabilities after 10,000 days are very similar to those after 15 days, suggesting that the distribution has reached equilibrium. As the number of steps or trials increases, the probabilities of different states become closer to each other. With a low number of trials, the model may yield higher probabilities for rest and sweets. However, as the number of trials increases, we observe that the probabilities settle around 13.76% for rest, 23.85% for sweets, and 62.39% for exercises."
      ],
      "metadata": {
        "id": "C_Zkk9Dl1YWq"
      }
    }
  ]
}