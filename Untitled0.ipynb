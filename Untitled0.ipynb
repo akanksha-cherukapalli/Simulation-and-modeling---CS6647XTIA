{
  "nbformat": 4,
  "nbformat_minor": 0,
  "metadata": {
    "colab": {
      "provenance": [],
      "authorship_tag": "ABX9TyMM/W/BhfnPinZbhA7cjmS8",
      "include_colab_link": true
    },
    "kernelspec": {
      "name": "python3",
      "display_name": "Python 3"
    },
    "language_info": {
      "name": "python"
    }
  },
  "cells": [
    {
      "cell_type": "markdown",
      "metadata": {
        "id": "view-in-github",
        "colab_type": "text"
      },
      "source": [
        "<a href=\"https://colab.research.google.com/github/akanksha-cherukapalli/Simulation-and-modeling---CS6647XTIA/blob/main/Untitled0.ipynb\" target=\"_parent\"><img src=\"https://colab.research.google.com/assets/colab-badge.svg\" alt=\"Open In Colab\"/></a>"
      ]
    },
    {
      "cell_type": "markdown",
      "source": [
        "1. Use for loop to generate 3 random integers between 100 and 999 which is divisible by 5. "
      ],
      "metadata": {
        "id": "HMYF-ubwQ1cf"
      }
    },
    {
      "cell_type": "code",
      "source": [
        "import random\n",
        "\n",
        "div_by_5 = []\n",
        "\n",
        "for i in range(3):\n",
        "    while True:\n",
        "        number = random.randint(100, 999)  # Generates a random number between 100 and 999\n",
        "        if number % 5 == 0:  # Checks if the number if it is divisible by 5\n",
        "            div_by_5.append(number)  # Adding the number to the list\n",
        "            break  # Exit the loop since we found a number that satisfies the condition\n",
        "\n",
        "print(div_by_5)\n"
      ],
      "metadata": {
        "colab": {
          "base_uri": "https://localhost:8080/"
        },
        "id": "YJnbu4m_PiO2",
        "outputId": "155fdec6-049f-4740-9634-641f1d6c6393"
      },
      "execution_count": 63,
      "outputs": [
        {
          "output_type": "stream",
          "name": "stdout",
          "text": [
            "[875, 135, 285]\n"
          ]
        }
      ]
    },
    {
      "cell_type": "markdown",
      "source": [
        "2.The Logistic distribution is used in Extreme Value problems where it can act as a mixture of Gumbel distributions. Draw samples from a logistic distribution and plot it. loc=10, scale=1 and size =1000. "
      ],
      "metadata": {
        "id": "gkOQLFbcPnKx"
      }
    },
    {
      "cell_type": "code",
      "source": [
        "import numpy as np\n",
        "import matplotlib.pyplot as plt\n",
        "\n",
        "# Set the parameters\n",
        "loc = 10\n",
        "scale = 1\n",
        "size = 1000\n",
        "\n",
        "# Generate samples from the logistic distribution\n",
        "samples = np.random.logistic(loc=loc, scale=scale, size=size)\n",
        "\n",
        "# Plot the histogram of the samples\n",
        "plt.hist(samples, bins=50, density=True, alpha=0.7, color='skyblue', edgecolor='black')\n",
        "\n",
        "# Add labels and title to the plot\n",
        "plt.xlabel('Value')\n",
        "plt.ylabel('Density')\n",
        "plt.title('Samples from Logistic Distribution')\n",
        "\n",
        "# Show the plot\n",
        "plt.show()\n"
      ],
      "metadata": {
        "colab": {
          "base_uri": "https://localhost:8080/",
          "height": 472
        },
        "id": "Zc3DOsOHPshm",
        "outputId": "186c5702-c0a7-4a53-deff-9de226bf4807"
      },
      "execution_count": 64,
      "outputs": [
        {
          "output_type": "display_data",
          "data": {
            "text/plain": [
              "<Figure size 640x480 with 1 Axes>"
            ],
            "image/png": "[encoded data removed]"
          },
          "metadata": {}
        }
      ]
    },
    {
      "cell_type": "markdown",
      "source": [
        "3.\tGenerate 6 digit random secure OTP."
      ],
      "metadata": {
        "id": "B8grHCjrPwKr"
      }
    },
    {
      "cell_type": "code",
      "source": [
        "import secrets\n",
        "\n",
        "# Generate a 6-digit OTP\n",
        "otp = secrets.randbelow(10**6)\n",
        "\n",
        "# Ensure the OTP has 6 digits\n",
        "otp = str(otp).zfill(6)\n",
        "\n",
        "print(\"Generated OTP:\", otp)\n"
      ],
      "metadata": {
        "colab": {
          "base_uri": "https://localhost:8080/"
        },
        "id": "vhwEWnM4P2N9",
        "outputId": "115a7731-bf8f-4502-bf6d-18aaa9c1ad28"
      },
      "execution_count": 65,
      "outputs": [
        {
          "output_type": "stream",
          "name": "stdout",
          "text": [
            "Generated OTP: 755184\n"
          ]
        }
      ]
    },
    {
      "cell_type": "markdown",
      "source": [
        "4.\tPick a random character from a given string such as \"Simulation and modeling\""
      ],
      "metadata": {
        "id": "zHuLzccJP5je"
      }
    },
    {
      "cell_type": "code",
      "source": [
        "import random\n",
        "\n",
        "# Define the input string\n",
        "input_string = \"Simulation and modeling\"\n",
        "\n",
        "# Remove spaces from the string\n",
        "input_string = input_string.replace(\" \", \"\")\n",
        "\n",
        "# Pick a random character\n",
        "random_character = random.choice(input_string)\n",
        "\n",
        "print(\"Random character:\", random_character)\n"
      ],
      "metadata": {
        "colab": {
          "base_uri": "https://localhost:8080/"
        },
        "id": "-DJEwf_QP8_u",
        "outputId": "50ad9bc3-e3e7-482a-dcd0-747369c30861"
      },
      "execution_count": 66,
      "outputs": [
        {
          "output_type": "stream",
          "name": "stdout",
          "text": [
            "Random character: l\n"
          ]
        }
      ]
    },
    {
      "cell_type": "markdown",
      "source": [
        "5. Import string and random module. Generate a string with 5 characters with UPPER case and lower case letters only. No numbers and a special symbol."
      ],
      "metadata": {
        "id": "JR2j1tInQCtM"
      }
    },
    {
      "cell_type": "code",
      "source": [
        "import string\n",
        "import random\n",
        "\n",
        "characters = string.ascii_letters  # Contains all uppercase and lowercase letters\n",
        "\n",
        "random_string = ''.join(random.choice(characters) for i in range(5)) # using str.join\n",
        "\n",
        "print(\"random string generated is\",random_string)\n"
      ],
      "metadata": {
        "colab": {
          "base_uri": "https://localhost:8080/"
        },
        "id": "60gSNn77QD6j",
        "outputId": "10410c9d-f011-4fc9-e2d5-babfcbfc414c"
      },
      "execution_count": 67,
      "outputs": [
        {
          "output_type": "stream",
          "name": "stdout",
          "text": [
            "random string generated is wGEHg\n"
          ]
        }
      ]
    },
    {
      "cell_type": "markdown",
      "source": [
        "6. Import string and random module. Generate a Password with length 10 which contains 2 upper case letters, 1 digit, and 1 special symbol. "
      ],
      "metadata": {
        "id": "VKEGQmm3QGxn"
      }
    },
    {
      "cell_type": "code",
      "source": [
        "import string\n",
        "import random\n",
        "\n",
        "# Define the characters to choose from\n",
        "uppercase_letters = string.ascii_uppercase\n",
        "digits = string.digits\n",
        "special_symbols = string.punctuation\n",
        "\n",
        "# Generate a password with 2 uppercase letters, 1 digit, and 1 special symbol\n",
        "password = random.choice(uppercase_letters) + random.choice(uppercase_letters) + random.choice(digits) + random.choice(special_symbols)\n",
        "remaining_length = 10 - len(password)\n",
        "\n",
        "for _ in range(remaining_length):\n",
        "    password += random.choice(uppercase_letters + digits + special_symbols)\n",
        "\n",
        "# Shuffle the password to make it random\n",
        "password_list = list(password)\n",
        "random.shuffle(password_list)\n",
        "password = ''.join(password_list)\n",
        "\n",
        "print(\"Generated password:\", password)\n"
      ],
      "metadata": {
        "colab": {
          "base_uri": "https://localhost:8080/"
        },
        "id": "AY_uMDUuQKHF",
        "outputId": "e09a7506-da5e-433e-a517-0a8c27b7553c"
      },
      "execution_count": 68,
      "outputs": [
        {
          "output_type": "stream",
          "name": "stdout",
          "text": [
            "Generated password: [[1UU*<JYV\n"
          ]
        }
      ]
    },
    {
      "cell_type": "markdown",
      "source": [
        "7. First generate evenly spaced values within 0 to 9. Give it new shape 3x3. Then randomly permute it."
      ],
      "metadata": {
        "id": "7SXyFcdNQM-u"
      }
    },
    {
      "cell_type": "code",
      "source": [
        "import numpy as np\n",
        "\n",
        "\n",
        "values = np.linspace(0, 9, 9, dtype=int) # we use np.linspace for evenly spaced values from 0 to 9\n",
        "\n",
        "\n",
        "matrix = values.reshape((3, 3)) # Reshaping the values into a 3x3 matrix\n",
        "\n",
        "permuted_matrix = np.random.permutation(matrix)  # Randomly permute the matrix\n",
        "\n",
        "print(\"the permuted matrix is \")\n",
        "print (permuted_matrix)"
      ],
      "metadata": {
        "colab": {
          "base_uri": "https://localhost:8080/"
        },
        "id": "ZGzyS0kxQRfF",
        "outputId": "69ee2d7d-14df-4bd5-de0a-2f95e04af6e5"
      },
      "execution_count": 69,
      "outputs": [
        {
          "output_type": "stream",
          "name": "stdout",
          "text": [
            "the permuted matrix is \n",
            "[[0 1 2]\n",
            " [6 7 9]\n",
            " [3 4 5]]\n"
          ]
        }
      ]
    },
    {
      "cell_type": "markdown",
      "source": [
        "8. Generate random secure token of 64 bytes and random URL"
      ],
      "metadata": {
        "id": "NCIY3HtoQUkY"
      }
    },
    {
      "cell_type": "code",
      "source": [
        "import secrets\n",
        "import string\n",
        "\n",
        "# Generating a random secure token of 64 bytes\n",
        "secure_token = secrets.token_hex(64) # We use secrets.token_hex(64) to make a 64-byte secure token that is chosen at random. \n",
        "\n",
        "\n",
        "# Generating a random URL\n",
        "characters = string.ascii_letters + string.digits\n",
        "url = ''.join(secrets.choice(characters) for _ in range(128)) # using range to 128 so that we get 64 byte URL as 1 byte = 2 bits or characters\n",
        "\n",
        "print(\"Random hexadecimal Secure Token:\", secure_token)\n",
        "print(\"Random  secure URL:\", url)"
      ],
      "metadata": {
        "colab": {
          "base_uri": "https://localhost:8080/"
        },
        "id": "-VkzTIsMQaUB",
        "outputId": "9c3bad87-87f3-4112-f818-07f99f02a31b"
      },
      "execution_count": 70,
      "outputs": [
        {
          "output_type": "stream",
          "name": "stdout",
          "text": [
            "Random hexadecimal Secure Token: 2b36bcd7c57ad042c56eb401b3c1745d8e694fe95f5621a052c88adbbeef454e9a37030cd927bbd5285b81af6833d9803bd6d359845d94e22e8c1c72b8a6efd3\n",
            "Random  secure URL: verUokje4QDY2emT8TxH6eL5Ndqu0KETJcIgUo9DFqUZzGVtM9WPW85Qx8DaNzXg4A6SnyhUgSBgVkPUICBCzWOkQg3P4XxhSjWQbRSbWpFzm0EmpQdspLlj254UoqvY\n"
          ]
        }
      ]
    },
    {
      "cell_type": "markdown",
      "source": [
        "9. Pick a random number from 1 to 6. Do it in such a way that every time you must get the same random output number(no hard coding numbers). do this 5 times."
      ],
      "metadata": {
        "id": "8f7NRcbjQbe8"
      }
    },
    {
      "cell_type": "code",
      "source": [
        "import random\n",
        "\n",
        "dice = [1, 2, 3, 4, 5, 6]\n",
        "print(\"Randomly selecting same number\")\n",
        "for i in range(5):\n",
        "    random.seed(25)\n",
        "    print(random.choice(dice))\n"
      ],
      "metadata": {
        "colab": {
          "base_uri": "https://localhost:8080/"
        },
        "id": "2hGLlDXEQfaC",
        "outputId": "9a5f1865-d20c-4eb9-e525-f932425b7357"
      },
      "execution_count": 71,
      "outputs": [
        {
          "output_type": "stream",
          "name": "stdout",
          "text": [
            "Randomly selecting same number\n",
            "4\n",
            "4\n",
            "4\n",
            "4\n",
            "4\n"
          ]
        }
      ]
    },
    {
      "cell_type": "markdown",
      "source": [
        "10. Write an interactive Python program to play a “guess the  number” game. The computer should think of a random integer between  1 and 20 and the user (player) has to try to guess the number within six  attempts. The program should let the player know if the guess is too high or  too low. \n"
      ],
      "metadata": {
        "id": "TLwmOzhPQiRr"
      }
    },
    {
      "cell_type": "code",
      "source": [
        "import random\n",
        "\n",
        "# Generating a random number between 1 and 20\n",
        "random_number = random.randint(1, 20)\n",
        "\n",
        "print(\"Welcome to the Number guessing game!\")\n",
        "print(\"I'm thinking of a number between 1 and 20.\")\n",
        "print(\"You have 6 attempts to guess the number.\")\n",
        "\n",
        "# Loop for 6 attempts\n",
        "for attempt in range(1, 7):\n",
        "    guess = int(input(f\"Attempt {attempt}: Enter your guess: \"))\n",
        "    \n",
        "    if guess < random_number:\n",
        "        print(\"Too low!\")\n",
        "    elif guess > random_number:\n",
        "        print(\"Too high!\")\n",
        "    else:\n",
        "        print(f\"Congratulations! You guessed the number in {attempt} attempts.\")\n",
        "        break\n",
        "\n",
        "# If the player couldn't guess the number in 6 attempts\n",
        "if guess != random_number:\n",
        "    print(f\"Game over! The number I was thinking was {random_number}.\")"
      ],
      "metadata": {
        "colab": {
          "base_uri": "https://localhost:8080/"
        },
        "id": "4bYhVSmtQnoS",
        "outputId": "a9d0dd60-7030-429e-acba-df5301374f38"
      },
      "execution_count": 73,
      "outputs": [
        {
          "output_type": "stream",
          "name": "stdout",
          "text": [
            "Welcome to the Number guessing game!\n",
            "I'm thinking of a number between 1 and 20.\n",
            "You have 6 attempts to guess the number.\n",
            "Attempt 1: Enter your guess: 5\n",
            "Too low!\n",
            "Attempt 2: Enter your guess: 6\n",
            "Too low!\n",
            "Attempt 3: Enter your guess: 12\n",
            "Too high!\n",
            "Attempt 4: Enter your guess: 10\n",
            "Too high!\n",
            "Attempt 5: Enter your guess: 9\n",
            "Too high!\n",
            "Attempt 6: Enter your guess: 8\n",
            "Too high!\n",
            "Game over! The number I was thinking was 7.\n"
          ]
        }
      ]
    }
  ]
}