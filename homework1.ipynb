{
  "cells": [
    {
      "attachments": {},
      "cell_type": "markdown",
      "metadata": {
        "id": "MZjBN_HdrL3w"
      },
      "source": [
        "##**Use sympy to solve the following questions**\n",
        "**1. Solve the quadratic function $x^2+2x-8=0$**"
      ]
    },
    {
      "cell_type": "code",
      "execution_count": 56,
      "metadata": {},
      "outputs": [
        {
          "name": "stdout",
          "output_type": "stream",
          "text": [
            "the results are: -4\n",
            "the results are: 2\n"
          ]
        }
      ],
      "source": [
        "from sympy import symbols, Eq, solve\n",
        "\n",
        "# Define the variable x\n",
        "x = symbols('x')\n",
        "\n",
        "# Define the quadratic equation\n",
        "equation = Eq(x**2 + 2*x - 8, 0)\n",
        "\n",
        "# Solve the equation\n",
        "solutions = solve(equation, x)\n",
        "\n",
        "# Print the solutions\n",
        "for solution in solutions:\n",
        "    print('the results are:',solution)\n"
      ]
    },
    {
      "attachments": {},
      "cell_type": "markdown",
      "metadata": {
        "id": "osWHgKk5t9MA"
      },
      "source": [
        "**2. What is the function f(x) which is equal to its\n",
        "derivative?**"
      ]
    },
    {
      "cell_type": "code",
      "execution_count": 57,
      "metadata": {
        "id": "MR8ijByJroeV"
      },
      "outputs": [
        {
          "name": "stdout",
          "output_type": "stream",
          "text": [
            "f(x) = Eq(f(x), C1*exp(x))\n"
          ]
        }
      ],
      "source": [
        "from sympy import symbols, Eq, Function, dsolve, exp\n",
        "\n",
        "# Define the variable x\n",
        "x = symbols('x')\n",
        "\n",
        "# Define the function f(x)\n",
        "f = Function('f')(x)\n",
        "\n",
        "# Define the differential equation f(x) = f'(x)\n",
        "equation = Eq(f.diff(x), f)\n",
        "\n",
        "# Solve the differential equation\n",
        "solution = dsolve(equation, f)\n",
        "\n",
        "# Print the solution\n",
        "print(f'f(x) = {solution}')\n"
      ]
    },
    {
      "attachments": {},
      "cell_type": "markdown",
      "metadata": {
        "id": "P2b7XyAD5qf1"
      },
      "source": [
        "**3. Compute the area under $f(x)=x^3$ from x=0 to x=1**"
      ]
    },
    {
      "cell_type": "code",
      "execution_count": 58,
      "metadata": {},
      "outputs": [
        {
          "name": "stdout",
          "output_type": "stream",
          "text": [
            "the area  under curve from x = 0 to 1: 1/4\n"
          ]
        }
      ],
      "source": [
        "from sympy import symbols, integrate\n",
        "\n",
        "# Define the variable x\n",
        "x = symbols('x')\n",
        "\n",
        "# Define the function f(x)\n",
        "f = x**3\n",
        "\n",
        "# Compute the definite integral of f(x) from x = 0 to x = 1\n",
        "area = integrate(f, (x, 0, 1))\n",
        "\n",
        "# Print the computed area\n",
        "print('the area  under curve from x = 0 to 1:', area)\n"
      ]
    },
    {
      "attachments": {},
      "cell_type": "markdown",
      "metadata": {
        "id": "X0WDytOW_0Ds"
      },
      "source": [
        "**4. Calculate $\\displaystyle\\sum\\limits_{x=0}^\\infty \\left(\\frac{1}{x!}\\right)$**"
      ]
    },
    {
      "cell_type": "code",
      "execution_count": 59,
      "metadata": {
        "id": "9j3BL9Tbrrhw"
      },
      "outputs": [
        {
          "name": "stdout",
          "output_type": "stream",
          "text": [
            "sum of the series is: E\n"
          ]
        }
      ],
      "source": [
        "from sympy import Symbol, Sum, factorial\n",
        "\n",
        "# Define the variable x\n",
        "x = Symbol('x')\n",
        "\n",
        "# Define the series term\n",
        "term = 1 / factorial(x)\n",
        "\n",
        "# Define the summation\n",
        "summation = Sum(term, (x, 0, float('inf')))\n",
        "\n",
        "# Evaluate the partial sum\n",
        "partial_sum = summation.doit()\n",
        "\n",
        "# Print the partial sum\n",
        "print(\"sum of the series is:\",partial_sum)\n"
      ]
    },
    {
      "attachments": {},
      "cell_type": "markdown",
      "metadata": {
        "id": "GX1ZPTnTCtrV"
      },
      "source": [
        "**5. Calculate $\\lim_{n \\rightarrow \\infty}(1+\\frac{1}{n})^n$**"
      ]
    },
    {
      "cell_type": "code",
      "execution_count": 60,
      "metadata": {
        "id": "9RuIX--BrwG_"
      },
      "outputs": [
        {
          "name": "stdout",
          "output_type": "stream",
          "text": [
            "The limit of (1 + 1/n)^n as n approaches infinity is: E\n"
          ]
        }
      ],
      "source": [
        "from sympy import symbols, limit, oo\n",
        "\n",
        "# Define the variable n\n",
        "n = symbols('n')\n",
        "\n",
        "# Define the expression\n",
        "expression = (1 + 1/n)**n\n",
        "\n",
        "# Calculate the limit\n",
        "limit_value = limit(expression, n, oo)\n",
        "\n",
        "# Print the limit value\n",
        "print(\"The limit of (1 + 1/n)^n as n approaches infinity is:\",limit_value)\n"
      ]
    },
    {
      "attachments": {},
      "cell_type": "markdown",
      "metadata": {
        "id": "PJ_WIHAZE9P2"
      },
      "source": [
        "**6. flips the matrix through its diagonal $\\begin{bmatrix}2&-3&-8&7 \\\\-2&-1&2&-7\\\\ 1&0&-3&6 \\end{bmatrix}$**"
      ]
    },
    {
      "cell_type": "code",
      "execution_count": 61,
      "metadata": {
        "id": "DjIgeasrrw1d"
      },
      "outputs": [
        {
          "name": "stdout",
          "output_type": "stream",
          "text": [
            "the matrix is : [[ 6 -3  0  1]\n",
            " [-7  2 -1 -2]\n",
            " [ 7 -8 -3  2]]\n"
          ]
        }
      ],
      "source": [
        "import numpy as np\n",
        "\n",
        "# Define the matrix\n",
        "matrix = np.array([[2, -3, -8, 7],\n",
        "                   [-2, -1, 2, -7],\n",
        "                   [1, 0, -3, 6]])\n",
        "\n",
        "# Flip the matrix through its diagonal\n",
        "flipped_matrix = np.flipud(np.fliplr(matrix))\n",
        "\n",
        "# Print the flipped matrix\n",
        "print('the matrix is :',flipped_matrix)\n"
      ]
    },
    {
      "attachments": {},
      "cell_type": "markdown",
      "metadata": {
        "id": "rLTC_3INOPdj"
      },
      "source": [
        "**7. Row operations: We know the following matrix**"
      ]
    },
    {
      "cell_type": "code",
      "execution_count": 62,
      "metadata": {
        "colab": {
          "base_uri": "https://localhost:8080/",
          "height": 78
        },
        "id": "iWzjfQn0Ox_a",
        "outputId": "9a591e92-6369-4a7a-ddde-f4b3748e88b2"
      },
      "outputs": [
        {
          "name": "stdout",
          "output_type": "stream",
          "text": [
            "[[1. 0. 0.]\n",
            " [0. 1. 0.]\n",
            " [0. 0. 1.]]\n"
          ]
        }
      ],
      "source": [
        "\n",
        "import numpy as np\n",
        "\n",
        "# Create a 3x3 identity matrix\n",
        "eye_matrix = np.eye(3)\n",
        "\n",
        "# Print the identity matrix\n",
        "print(eye_matrix)\n"
      ]
    },
    {
      "attachments": {},
      "cell_type": "markdown",
      "metadata": {},
      "source": [
        "7.1 Do matrix row operations to R2 ← R2 + 3R1. (update Row 2 to R2+3*R1). Print the matrix"
      ]
    },
    {
      "cell_type": "code",
      "execution_count": 63,
      "metadata": {},
      "outputs": [
        {
          "name": "stdout",
          "output_type": "stream",
          "text": [
            "[[1. 0. 0.]\n",
            " [3. 1. 0.]\n",
            " [0. 0. 1.]]\n"
          ]
        }
      ],
      "source": [
        "import numpy as np\n",
        "\n",
        "# Define the matrix\n",
        "matrix = np.eye(3)\n",
        "\n",
        "# Perform the row operation R2 ← R2 + 3R1\n",
        "matrix[1] = matrix[1] + 3 * matrix[0]\n",
        "\n",
        "# Print the updated matrix\n",
        "print(matrix)\n"
      ]
    },
    {
      "attachments": {},
      "cell_type": "markdown",
      "metadata": {},
      "source": [
        "8.Find determinant of M"
      ]
    },
    {
      "cell_type": "code",
      "execution_count": 64,
      "metadata": {},
      "outputs": [
        {
          "name": "stdout",
          "output_type": "stream",
          "text": [
            "Determinant: 1\n"
          ]
        }
      ],
      "source": [
        "# we use det function from SymPy\n",
        "from sympy import Matrix\n",
        "\n",
        "# Define the matrix\n",
        "M = Matrix([[1, 0, 0], [3, 1, 0], [0, 0, 1]])\n",
        "\n",
        "# Compute the determinant\n",
        "determinant = M.det()\n",
        "\n",
        "# Print the determinant\n",
        "print(\"Determinant:\", determinant)"
      ]
    },
    {
      "attachments": {},
      "cell_type": "markdown",
      "metadata": {
        "id": "qaXra9fNlSDu"
      },
      "source": [
        "**9.Find the following matrix's eigenvalue and eigen vector**"
      ]
    },
    {
      "cell_type": "code",
      "execution_count": 65,
      "metadata": {
        "id": "W8cpvW7lljCv"
      },
      "outputs": [
        {
          "name": "stdout",
          "output_type": "stream",
          "text": [
            "Eigenvalues:\n",
            "10\n",
            "5\n",
            "Eigenvectors:\n",
            "Eigenvalue: 5\n",
            "Eigenvector: Matrix([[1/2], [1]])\n",
            "Eigenvalue: 10\n",
            "Eigenvector: Matrix([[-2], [1]])\n"
          ]
        }
      ],
      "source": [
        "from sympy import Matrix\n",
        "\n",
        "# Define the matrix\n",
        "M = Matrix([[9, -2],\n",
        "            [-2, 6]])\n",
        "\n",
        "# Find the eigenvalues and eigenvectors\n",
        "eigenvals = M.eigenvals()\n",
        "eigenvectors = M.eigenvects()\n",
        "\n",
        "# Print the eigenvalues\n",
        "print(\"Eigenvalues:\")\n",
        "for eigenval in eigenvals:\n",
        "    print(eigenval)\n",
        "\n",
        "# Print the eigenvectors\n",
        "print(\"Eigenvectors:\")\n",
        "for eigenvector in eigenvectors:\n",
        "    print(\"Eigenvalue:\", eigenvector[0])\n",
        "    print(\"Eigenvector:\", eigenvector[2][0])\n",
        "\n",
        "\n"
      ]
    },
    {
      "attachments": {},
      "cell_type": "markdown",
      "metadata": {
        "id": "T0NeZ4Hwo1Uy"
      },
      "source": [
        "**10. Implement the Predator-prey model in python**\n",
        "\n",
        "Suppose fish starts at 10 hundreds, bears starts at 1 hundred\n",
        "\n",
        "alpha = 1.1\n",
        "\n",
        "beta = 0.4\n",
        "\n",
        "delta = 0.1\n",
        "\n",
        "gamma = 0.4\n",
        "\n",
        "draw the plots(bear-time, fish-time)\n",
        "\n",
        "t = np.linspace(0,50,num=1000)\n"
      ]
    },
    {
      "cell_type": "code",
      "execution_count": 66,
      "metadata": {},
      "outputs": [
        {
          "data": {
            "image/png": "[encoded data removed]",
            "text/plain": [
              "<Figure size 640x480 with 1 Axes>"
            ]
          },
          "metadata": {},
          "output_type": "display_data"
        }
      ],
      "source": [
        "import numpy as np\n",
        "import matplotlib.pyplot as plt\n",
        "from scipy.integrate import odeint\n",
        "\n",
        "def predator_prey(y, t, al, be, de, gam):\n",
        "    x, y = y\n",
        "    dxdt = al * x - be * x * y\n",
        "    dydt = de * x * y - gam * y\n",
        "    return [dxdt, dydt]\n",
        "\n",
        "x0 = 1  # Initial number of bears (in hundreds)\n",
        "y0 = 10  # Initial number of fish (in hundreds)\n",
        "\n",
        "al = 1.1\n",
        "be = 0.4\n",
        "de = 0.1\n",
        "gam = 0.4\n",
        "\n",
        "t = np.linspace(0, 50, num=1000)\n",
        "\n",
        "sol = odeint(predator_prey, [x0, y0], t, args=(al, be, de, gam))\n",
        "\n",
        "bears = sol[:, 0]\n",
        "fish = sol[:, 1]\n",
        "\n",
        "plt.plot(t, bears, label='Bears')\n",
        "plt.plot(t, fish, label='Fish')\n",
        "plt.xlabel('Time')\n",
        "plt.ylabel('Population (Hundreds)')\n",
        "plt.title('Predator-Prey Model')\n",
        "plt.legend()\n",
        "plt.show()\n",
        "\n",
        "\n"
      ]
    }
  ],
  "metadata": {
    "colab": {
      "collapsed_sections": [],
      "name": "homework1.ipynb",
      "provenance": []
    },
    "kernelspec": {
      "display_name": "Python 3",
      "name": "python3"
    },
    "language_info": {
      "codemirror_mode": {
        "name": "ipython",
        "version": 3
      },
      "file_extension": ".py",
      "mimetype": "text/x-python",
      "name": "python",
      "nbconvert_exporter": "python",
      "pygments_lexer": "ipython3",
      "version": "3.10.9"
    }
  },
  "nbformat": 4,
  "nbformat_minor": 0
}
