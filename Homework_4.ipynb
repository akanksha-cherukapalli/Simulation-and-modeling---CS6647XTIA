{
  "nbformat": 4,
  "nbformat_minor": 0,
  "metadata": {
    "colab": {
      "provenance": [],
      "authorship_tag": "ABX9TyMTW0J0ZTe0t7OFH1zmQfto",
      "include_colab_link": true
    },
    "kernelspec": {
      "name": "python3",
      "display_name": "Python 3"
    },
    "language_info": {
      "name": "python"
    }
  },
  "cells": [
    {
      "cell_type": "markdown",
      "metadata": {
        "id": "view-in-github",
        "colab_type": "text"
      },
      "source": [
        "<a href=\"https://colab.research.google.com/github/akanksha-cherukapalli/Simulation-and-modeling---CS6647XTIA/blob/main/Homework_4.ipynb\" target=\"_parent\"><img src=\"https://colab.research.google.com/assets/colab-badge.svg\" alt=\"Open In Colab\"/></a>"
      ]
    },
    {
      "cell_type": "markdown",
      "source": [
        "Use Monte Carlo simulation for the following two problems:\n",
        "\n",
        "1. Suppose you have three bills. Two are $10 bills and the other one is a $100 bill. Your friend puts each bill in a box. So one box has $100, and the other two boxes have $10 each. You pick a box, let's say box 1, then your friend who knows what's inside the boxes, opens another box, say box 3, which has a $10 bill. Do you want to stick your choice or switch to another box in order to get the $100 bill?  ( if the 100 is inside box 2 the friend must open box 3, but if the 100 is inside box 1 the friend can open either box 2 or 3.)\n",
        "\n",
        "Produce the probability numbers and a graph to justify your choice to stick or switch."
      ],
      "metadata": {
        "id": "-MG_KdF2qD6A"
      }
    },
    {
      "cell_type": "code",
      "source": [
        "\n",
        "  import random\n",
        "import matplotlib.pyplot as plt\n",
        "\n",
        "def simulate_game(switch):\n",
        "    boxes = ['box1', 'box2', 'box3']\n",
        "    random.shuffle(boxes)  # Shuffling\n",
        "    chosen_box = boxes.pop(random.randint(0, 2))  # Choose a random box\n",
        "\n",
        "    if chosen_box == 'box1':\n",
        "        # If the chosen is box1, the friend can open either box2 or box3\n",
        "        boxes.remove(random.choice(['box2', 'box3']))\n",
        "    elif chosen_box == 'box2':\n",
        "        boxes.remove('box3')\n",
        "    else:\n",
        "        boxes.remove('box2')\n",
        "\n",
        "    if switch:\n",
        "        chosen_box = boxes[0]\n",
        "\n",
        "    return chosen_box == 'box1'\n",
        "\n",
        "simulations = 1000000  # Monte Carlo\n",
        "results = [simulate_game(switch=False) for _ in range(simulations)]\n",
        "stick_wins = sum(results)\n",
        "stick_p = stick_wins / simulations\n",
        "\n",
        "results = [simulate_game(switch=True) for _ in range(simulations)]\n",
        "switch_wins = sum(results)\n",
        "switch_p = switch_wins / simulations\n",
        "\n",
        "labels = ['Stick', 'Switch']\n",
        "probabilities = [stick_p, switch_p]\n",
        "\n",
        "plt.bar(labels, probabilities)\n",
        "plt.xlabel('Strategy')\n",
        "plt.ylabel('Probability of Winning')\n",
        "plt.title('Monte Carlo Simulation Results')\n",
        "plt.ylim([0, 1])\n",
        "plt.show()\n",
        "\n",
        "print(\"Stick Probability:\", stick_p)\n",
        "print(\"Switch Probability:\", switch_p)\n",
        "\n"
      ],
      "metadata": {
        "colab": {
          "base_uri": "https://localhost:8080/",
          "height": 507
        },
        "id": "-pLntZ_uqH9C",
        "outputId": "f528696c-62a2-4921-a1a9-0643295db1c5"
      },
      "execution_count": 2,
      "outputs": [
        {
          "output_type": "display_data",
          "data": {
            "text/plain": [
              "<Figure size 640x480 with 1 Axes>"
            ],
            "image/png": "[encoded data removed]"
          },
          "metadata": {}
        },
        {
          "output_type": "stream",
          "name": "stdout",
          "text": [
            "Stick Probability: 0.333628\n",
            "Switch Probability: 0.66731\n"
          ]
        }
      ]
    },
    {
      "cell_type": "markdown",
      "source": [
        "Use the Monte Carlo method to get integral for ∫[0, 1] x * cos(71x) + sin(13x)) dx\n",
        "\n"
      ],
      "metadata": {
        "id": "K9ilWp0ErVC2"
      }
    },
    {
      "cell_type": "code",
      "source": [
        "import random\n",
        "import math\n",
        "\n",
        "def f(x):\n",
        "    return x * math.cos(71 * x) + math.sin(13 * x)\n",
        "\n",
        "def monte_carlo_integration(num_samples):\n",
        "    samples = [f(random.uniform(0, 1)) for _ in range(num_samples)]\n",
        "    avg = sum(samples) / num_samples\n",
        "    integral = avg * 1  # Multiplying by the length of the interval [0, 1]\n",
        "    return integral\n",
        "\n",
        "# Monte Carlo integration\n",
        "num_samples = 1000000\n",
        "approx_integral = monte_carlo_integration(num_samples)\n",
        "print(\"Approximate integral Using Monte Carlo:\", approx_integral)\n"
      ],
      "metadata": {
        "colab": {
          "base_uri": "https://localhost:8080/"
        },
        "id": "yYgpxUVqsv-n",
        "outputId": "db24aa23-1690-411b-88e4-0d82eb43037d"
      },
      "execution_count": 45,
      "outputs": [
        {
          "output_type": "stream",
          "name": "stdout",
          "text": [
            "Approximate integral Using Monte Carlo: 0.020267112088689674\n"
          ]
        }
      ]
    }
  ]
}