{
  "nbformat": 4,
  "nbformat_minor": 0,
  "metadata": {
    "colab": {
      "provenance": [],
      "authorship_tag": "ABX9TyOOnQ4KerKUaAx9b5D8WHZX",
      "include_colab_link": true
    },
    "kernelspec": {
      "name": "python3",
      "display_name": "Python 3"
    },
    "language_info": {
      "name": "python"
    }
  },
  "cells": [
    {
      "cell_type": "markdown",
      "metadata": {
        "id": "view-in-github",
        "colab_type": "text"
      },
      "source": [
        "<a href=\"https://colab.research.google.com/github/akanksha-cherukapalli/Simulation-and-modeling---CS6647XTIA/blob/main/Homework3.ipynb\" target=\"_parent\"><img src=\"https://colab.research.google.com/assets/colab-badge.svg\" alt=\"Open In Colab\"/></a>"
      ]
    },
    {
      "cell_type": "code",
      "execution_count": null,
      "metadata": {
        "id": "TlVkfK1qkJbK"
      },
      "outputs": [],
      "source": [
        "Load libraries. We use the scipy.stats library."
      ]
    },
    {
      "cell_type": "code",
      "source": [
        "import scipy.stats as stats\n"
      ],
      "metadata": {
        "id": "0vJ01zGYler-"
      },
      "execution_count": 2,
      "outputs": []
    },
    {
      "cell_type": "markdown",
      "source": [
        "Use scipy library to create a randam uniform distribution data (100000 numbers from 0 to 10)"
      ],
      "metadata": {
        "id": "D_P2LilAlkH7"
      }
    },
    {
      "cell_type": "code",
      "source": [
        "import numpy as np\n",
        "from scipy.stats import uniform\n",
        "\n",
        "# Set the seed for reproducibility\n",
        "np.random.seed(42)\n",
        "\n",
        "# Define the range of the uniform distribution\n",
        "a = 0   # Lower bound\n",
        "b = 10  # Upper bound\n",
        "\n",
        "# Create the random uniform distribution\n",
        "random_data = uniform.rvs(loc=a, scale=b-a, size=100000)\n",
        "\n",
        "# Print the first 10 values\n",
        "print(random_data[:10])\n"
      ],
      "metadata": {
        "colab": {
          "base_uri": "https://localhost:8080/"
        },
        "id": "okV6c-G-lpHH",
        "outputId": "1a64e66e-ec3f-42d3-9ff8-215862d2bb02"
      },
      "execution_count": 3,
      "outputs": [
        {
          "output_type": "stream",
          "name": "stdout",
          "text": [
            "[3.74540119 9.50714306 7.31993942 5.98658484 1.5601864  1.5599452\n",
            " 0.58083612 8.66176146 6.01115012 7.08072578]\n"
          ]
        }
      ]
    },
    {
      "cell_type": "markdown",
      "source": [
        "Plot the following density distribution.\n",
        "You can use figsize=(9,9), xlim=(-1,11)"
      ],
      "metadata": {
        "id": "C-FW4VlRmLBZ"
      }
    },
    {
      "cell_type": "code",
      "source": [
        "import matplotlib.pyplot as plt\n",
        "\n",
        "# Set the figure size and x-axis limits\n",
        "plt.figure(figsize=(9, 9))\n",
        "plt.xlim(-1, 11)\n",
        "\n",
        "# Plot the density distribution\n",
        "plt.hist(random_data, density=True, bins=50, alpha=0.7, color='blue', edgecolor='black')\n",
        "\n",
        "# Set the plot title and labels\n",
        "plt.title('Random Uniform Distribution', fontsize=16)\n",
        "plt.xlabel('Values', fontsize=12)\n",
        "plt.ylabel('Density', fontsize=12)\n",
        "\n",
        "# Display the plot\n",
        "plt.show()\n"
      ],
      "metadata": {
        "colab": {
          "base_uri": "https://localhost:8080/",
          "height": 801
        },
        "id": "MWCYERDjmQr-",
        "outputId": "5c815725-8e8c-4f3d-c445-258893b272f0"
      },
      "execution_count": 4,
      "outputs": [
        {
          "output_type": "display_data",
          "data": {
            "text/plain": [
              "<Figure size 900x900 with 1 Axes>"
            ],
            "image/png": "[encoded data removed]"
          },
          "metadata": {}
        }
      ]
    },
    {
      "cell_type": "markdown",
      "source": [
        "\n",
        "\n",
        "Check scipy libraries and use useful functions.\n",
        "cdf (cumulative distribution function) gives you the area under the distribution's density curve to the left of a certain value on the x axis. Calculate cdf with x axis from 0 to 2.5."
      ],
      "metadata": {
        "id": "ujC0FtbGmdFt"
      }
    },
    {
      "cell_type": "code",
      "source": [
        "import scipy.stats as stats\n",
        "# Calculating CDF for x-axis ranging from 0 to 2.5\n",
        "x = 2.5\n",
        "cdf_value = stats.uniform.cdf(x, loc=0, scale=10)  # CDF value for the given x-axis range\n",
        "print(cdf_value)\n",
        "\n"
      ],
      "metadata": {
        "colab": {
          "base_uri": "https://localhost:8080/"
        },
        "id": "Fx4-syh7mk4a",
        "outputId": "08461b36-4244-4b88-dd84-cbb16f767a46"
      },
      "execution_count": 9,
      "outputs": [
        {
          "output_type": "stream",
          "name": "stdout",
          "text": [
            "0.25\n"
          ]
        }
      ]
    },
    {
      "cell_type": "markdown",
      "source": [
        "ppf() is the inverse of cdf(): it returns the x axis cutoff value (quantile) associated with a given probability. Caculate the cutoff value for propabality with 40%."
      ],
      "metadata": {
        "id": "VaEUbyHwnkJ2"
      }
    },
    {
      "cell_type": "code",
      "source": [
        "import scipy.stats as stats\n",
        "# Calculating cutoff value for probability of 40%\n",
        "probability = 0.4\n",
        "cutoff_value = stats.uniform.ppf(probability, loc=0, scale=10)  # Cutoff value for the given probability\n",
        "print(cutoff_value)"
      ],
      "metadata": {
        "colab": {
          "base_uri": "https://localhost:8080/"
        },
        "id": "6wH9JiZWnrMm",
        "outputId": "6ba97402-f9b6-443e-e00b-04a1d1a52ab6"
      },
      "execution_count": 10,
      "outputs": [
        {
          "output_type": "stream",
          "name": "stdout",
          "text": [
            "4.0\n"
          ]
        }
      ]
    },
    {
      "cell_type": "markdown",
      "source": [
        "Demonstrate for uniform distribution, x values within the range will have the same probability desity.  x values outside the range have a probability density of 0. The output is similar as the following."
      ],
      "metadata": {
        "id": "V0AGW-2Yo1P_"
      }
    },
    {
      "cell_type": "code",
      "source": [
        "import scipy.stats as stats\n",
        "\n",
        "a = 0  # Start of the range\n",
        "b = 10  # End of the range\n",
        "\n",
        "x_values = [-1, 2, 5, 8, 11]\n",
        "for x in x_values:\n",
        "    if a <= x <= b:\n",
        "        density = 1 / (b - a)\n",
        "    else:\n",
        "        density = 0.0\n",
        "    print(f\"Density at x value {x}: {density}\")\n",
        "\n",
        "\n"
      ],
      "metadata": {
        "colab": {
          "base_uri": "https://localhost:8080/"
        },
        "id": "S1RDloF_o5e8",
        "outputId": "6086b972-0868-42c2-b62e-44fbf2328e50"
      },
      "execution_count": 13,
      "outputs": [
        {
          "output_type": "stream",
          "name": "stdout",
          "text": [
            "Density at x value -1: 0.0\n",
            "Density at x value 2: 0.1\n",
            "Density at x value 5: 0.1\n",
            "Density at x value 8: 0.1\n",
            "Density at x value 11: 0.0\n"
          ]
        }
      ]
    },
    {
      "cell_type": "markdown",
      "source": [
        "Probability distribution functions in scipy also support median(), mean(), var() and std()."
      ],
      "metadata": {
        "id": "6VDcGIHXp3S3"
      }
    },
    {
      "cell_type": "code",
      "source": [
        "The Normal Distribution"
      ],
      "metadata": {
        "id": "teEAQSlEp7rr"
      },
      "execution_count": null,
      "outputs": []
    },
    {
      "cell_type": "markdown",
      "source": [
        "\n",
        "Use scipy's norm to have normal distribution (see the graph below) .  The normal distribution has default vaues of  mean of 0 and standard deviation of 1. Investigate what percentage of data generated by a default normal distribution is below -1. What percentage of data generated is above 1 and what percentage lies between -1 and 1. Print the three percentages. The output is similar as the following."
      ],
      "metadata": {
        "id": "jUEJOtNJqNDS"
      }
    },
    {
      "cell_type": "code",
      "source": [
        "import scipy.stats as stats\n",
        "\n",
        "# Create a normal distribution with mean=0 and standard deviation=1\n",
        "distribution = stats.norm(0, 1)\n",
        "\n",
        "# Calculate the percentages\n",
        "percentage_below_minus1 = distribution.cdf(-1) * 100\n",
        "percentage_above_1 = (1 - distribution.cdf(1)) * 100\n",
        "percentage_between_minus1_and_1 = (distribution.cdf(1) - distribution.cdf(-1)) * 100\n",
        "\n",
        "# Print the percentages\n",
        "print(f\"Percentage below -1: {percentage_below_minus1:.2f}%\")\n",
        "print(f\"Percentage above 1: {percentage_above_1:.2f}%\")\n",
        "print(f\"Percentage between -1 and 1: {percentage_between_minus1_and_1:.2f}%\")\n"
      ],
      "metadata": {
        "colab": {
          "base_uri": "https://localhost:8080/"
        },
        "id": "aVUCWl5DqUKu",
        "outputId": "8d69e444-8397-471c-e7a6-2bc9e98c5809"
      },
      "execution_count": 14,
      "outputs": [
        {
          "output_type": "stream",
          "name": "stdout",
          "text": [
            "Percentage below -1: 15.87%\n",
            "Percentage above 1: 15.87%\n",
            "Percentage between -1 and 1: 68.27%\n"
          ]
        }
      ]
    },
    {
      "cell_type": "markdown",
      "source": [
        "Plotting is not required. The codes will be included in the solution. The image below shows the bell shape normal distribution."
      ],
      "metadata": {
        "id": "bIkFLyiGqs2T"
      }
    },
    {
      "cell_type": "markdown",
      "source": [
        "![image.png](data:image/png;base64,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)"
      ],
      "metadata": {
        "id": "SCnsJ1-Aq36p"
      }
    },
    {
      "cell_type": "markdown",
      "source": [
        "\n",
        "print the ppf for 2.5% cutoff and 97.5% cutoff. The output is similar as the following"
      ],
      "metadata": {
        "id": "iUS45Q8jqLc9"
      }
    },
    {
      "cell_type": "code",
      "source": [
        "# Calculate the ppf for the 2.5% cutoff\n",
        "ppf_2p5 = distribution.ppf(0.025)\n",
        "\n",
        "# Calculate the ppf for the 97.5% cutoff\n",
        "ppf_97p5 = distribution.ppf(0.975)\n",
        "\n",
        "# Print the ppf values\n",
        "print(\"ppf for 2.5% cutoff:\", ppf_2p5)\n",
        "print(\"ppf for 97.5% cutoff:\", ppf_97p5)"
      ],
      "metadata": {
        "colab": {
          "base_uri": "https://localhost:8080/"
        },
        "id": "4PlHBs7rrCLn",
        "outputId": "6640fe9c-dba7-4198-f2aa-b113b4bad7f9"
      },
      "execution_count": 15,
      "outputs": [
        {
          "output_type": "stream",
          "name": "stdout",
          "text": [
            "ppf for 2.5% cutoff: -1.9599639845400545\n",
            "ppf for 97.5% cutoff: 1.959963984540054\n"
          ]
        }
      ]
    },
    {
      "cell_type": "markdown",
      "source": [
        "The quantile output above confirms that roughly 5% of the data lies more than 2 standard deviations from the mean.\n"
      ],
      "metadata": {
        "id": "tD_eo_LtrJ2w"
      }
    },
    {
      "cell_type": "code",
      "source": [
        "## The Binomial Distribution"
      ],
      "metadata": {
        "id": "_65lRszMrXu1"
      },
      "execution_count": null,
      "outputs": []
    },
    {
      "cell_type": "markdown",
      "source": [
        "We will use binomial distribution to model coin flips. The scipy name for the binomial is binom. Here we set the number of flips per trial to 10,  the number of trials to 10000, and success probability to 0.5.\n",
        "\n",
        "Create a random binomial distribution data \"fair_coin_flips\" in the code line below."
      ],
      "metadata": {
        "id": "1qqGE5wUrcC5"
      }
    },
    {
      "cell_type": "code",
      "source": [
        "import scipy.stats as stats\n",
        "import pandas as pd\n",
        "\n",
        "# Set the parameters\n",
        "num_flips_per_trial = 10\n",
        "num_trials = 10000\n",
        "success_prob = 0.5\n",
        "\n",
        "# Create the random binomial distribution data\n",
        "fair_coin_flips = stats.binom.rvs(num_flips_per_trial, success_prob, size=num_trials)\n",
        "\n",
        "# Print out the counts for 0 heads, 1 head, ... 10 heads of each trial with 10000 trials\n",
        "print(pd.crosstab(index=\"counts\", columns=fair_coin_flips))\n",
        "\n",
        "# Draw the histogram\n",
        "pd.DataFrame(fair_coin_flips).hist(range=(-0.5, 10.5), bins=11)\n",
        "plt.xlabel(\"Number of Successes\")\n",
        "plt.ylabel(\"Frequency\")\n",
        "plt.title(\"Binomial Distribution (p=0.5)\")\n",
        "plt.show()\n",
        "\n"
      ],
      "metadata": {
        "colab": {
          "base_uri": "https://localhost:8080/",
          "height": 524
        },
        "id": "II9oZuZUrfZY",
        "outputId": "9c81af18-3098-49eb-fa96-45a503dddc47"
      },
      "execution_count": 18,
      "outputs": [
        {
          "output_type": "stream",
          "name": "stdout",
          "text": [
            "col_0   0    1    2     3     4     5     6     7    8   9   10\n",
            "row_0                                                          \n",
            "counts  14  110  455  1175  2108  2479  1974  1152  429  92  12\n"
          ]
        },
        {
          "output_type": "display_data",
          "data": {
            "text/plain": [
              "<Figure size 640x480 with 1 Axes>"
            ],
            "image/png": "[encoded data removed]"
          },
          "metadata": {}
        }
      ]
    },
    {
      "cell_type": "markdown",
      "source": [
        "The histogram above shows us that a binomial distribution with a 50% probability of success is roughly symmetric, with the most likely outcomes lying at the center. Change the success rate to 0.8, implement the codes similar as above to show the distribution won't be symmetric:"
      ],
      "metadata": {
        "id": "9rcVEA31slKS"
      }
    },
    {
      "cell_type": "code",
      "source": [
        "import pandas as pd\n",
        "import matplotlib.pyplot as plt\n",
        "from scipy import stats\n",
        "# Setting the parameters for the binomial distribution\n",
        "num_flips_per_trial = 10\n",
        "num_trials = 10000\n",
        "success_prob = 0.8\n",
        "fair_coin_flips = stats.binom.rvs(n=num_flips_per_trial, p=success_prob, size=num_trials)\n",
        "cross_tab = pd.crosstab(index=\"counts\", columns=fair_coin_flips)\n",
        "print(cross_tab)\n",
        "df = pd.DataFrame(fair_coin_flips)\n",
        "df.hist(range=(-0.5, 10.5), bins=11)\n",
        "plt.xlabel(\"Number of Successes\")\n",
        "plt.ylabel(\"Frequency\")\n",
        "plt.title(\"Binomial Distribution (p=0.8)\")\n",
        "plt.show()"
      ],
      "metadata": {
        "colab": {
          "base_uri": "https://localhost:8080/",
          "height": 524
        },
        "id": "JjIztdhptv4o",
        "outputId": "bf067503-6e95-42e7-8ae6-4c3856e10424"
      },
      "execution_count": 19,
      "outputs": [
        {
          "output_type": "stream",
          "name": "stdout",
          "text": [
            "col_0   3   4    5    6     7     8     9     10\n",
            "row_0                                           \n",
            "counts   5  67  292  881  2027  3038  2625  1065\n"
          ]
        },
        {
          "output_type": "display_data",
          "data": {
            "text/plain": [
              "<Figure size 640x480 with 1 Axes>"
            ],
            "image/png": "[encoded data removed]"
          },
          "metadata": {}
        }
      ]
    },
    {
      "cell_type": "markdown",
      "source": [
        "Continue from above binomial distribution(success rate=0.8), give the codes to get the probability of achieving 5 heads or less with 10 flips."
      ],
      "metadata": {
        "id": "3wbWSpXFvSwL"
      }
    },
    {
      "cell_type": "code",
      "source": [
        "import scipy.stats as stats\n",
        "\n",
        "# Set the parameters for the binomial distribution\n",
        "num_flips = 10\n",
        "success_rate = 0.8\n",
        "\n",
        "# Create a binomial distribution object\n",
        "binom_dist = stats.binom(num_flips, success_rate)\n",
        "\n",
        "# Calculate the probability of getting 5 heads or less\n",
        "probability_5_heads_or_less = binom_dist.cdf(5)\n",
        "\n",
        "# Print the probability\n",
        "print(f\"Probability of achieving 5 heads or less with 10 flips: {probability_5_heads_or_less:.4f}\")\n"
      ],
      "metadata": {
        "colab": {
          "base_uri": "https://localhost:8080/"
        },
        "id": "mPTJiXZ4vLUO",
        "outputId": "18b728d4-6eea-4da0-90ba-def9f895ee6b"
      },
      "execution_count": 20,
      "outputs": [
        {
          "output_type": "stream",
          "name": "stdout",
          "text": [
            "Probability of achieving 5 heads or less with 10 flips: 0.0328\n"
          ]
        }
      ]
    },
    {
      "cell_type": "markdown",
      "source": [
        "Continue from above binomial distribution(success rate=0.8), give the codes to get the probability of achieving 9 heads or more with 10 flips."
      ],
      "metadata": {
        "id": "FjkNVgrFvUkK"
      }
    },
    {
      "cell_type": "code",
      "source": [
        "import scipy.stats as stats\n",
        "\n",
        "# Set the parameters for the binomial distribution\n",
        "num_flips = 10\n",
        "success_rate = 0.8\n",
        "\n",
        "# Create a binomial distribution object\n",
        "binom_dist = stats.binom(num_flips, success_rate)\n",
        "\n",
        "# Calculate the probability of getting 9 heads or more\n",
        "probability_9_heads_or_more = 1 - binom_dist.cdf(8)\n",
        "\n",
        "# Print the probability\n",
        "print(f\"Probability of achieving 9 heads or more with 10 flips: {probability_9_heads_or_more:.4f}\")\n"
      ],
      "metadata": {
        "colab": {
          "base_uri": "https://localhost:8080/"
        },
        "id": "d5KTP61AvlLA",
        "outputId": "353ea518-964f-4215-9678-dbdeb6b61aea"
      },
      "execution_count": 21,
      "outputs": [
        {
          "output_type": "stream",
          "name": "stdout",
          "text": [
            "Probability of achieving 9 heads or more with 10 flips: 0.3758\n"
          ]
        }
      ]
    },
    {
      "cell_type": "markdown",
      "source": [
        "For continuous probability density functions, you use pdf() to check the probability density at a given x value. For discrete distributions like the binomial, use stats.distribution.pmf() (probability mass function) to check the mass (proportion of observations) at given number of successes k.\n",
        "Write codes to give the probability density at 5 heads with success rate of 0.5 of 10 flips."
      ],
      "metadata": {
        "id": "jpozh_zSvqdI"
      }
    },
    {
      "cell_type": "code",
      "source": [
        "import scipy.stats as stats\n",
        "\n",
        "# Set the parameters for the binomial distribution\n",
        "num_flips = 10\n",
        "success_rate = 0.5\n",
        "\n",
        "# Create a binomial distribution object\n",
        "binom_dist = stats.binom(num_flips, success_rate)\n",
        "\n",
        "# Calculate the probability density at 5 heads\n",
        "density_5_heads = binom_dist.pmf(5)\n",
        "\n",
        "# Print the probability density\n",
        "print(f\"Probability density at 5 heads with 10 flips: {density_5_heads:.4f}\")\n"
      ],
      "metadata": {
        "colab": {
          "base_uri": "https://localhost:8080/"
        },
        "id": "tPk-HB-Lvrp-",
        "outputId": "7199e110-3b3e-47b0-c7e3-df15ecbe4fd5"
      },
      "execution_count": 22,
      "outputs": [
        {
          "output_type": "stream",
          "name": "stdout",
          "text": [
            "Probability density at 5 heads with 10 flips: 0.2461\n"
          ]
        }
      ]
    },
    {
      "cell_type": "markdown",
      "source": [
        "What about the probability density at 8 heads with success rate of 0.8 of 10 flips?"
      ],
      "metadata": {
        "id": "LgCJkrN8v0wK"
      }
    },
    {
      "cell_type": "code",
      "source": [
        "import scipy.stats as stats\n",
        "\n",
        "# Set the parameters for the binomial distribution\n",
        "num_flips = 10\n",
        "success_rate = 0.8\n",
        "\n",
        "# Create a binomial distribution object\n",
        "binom_dist = stats.binom(num_flips, success_rate)\n",
        "\n",
        "# Calculate the probability density at 8 heads\n",
        "density_8_heads = binom_dist.pmf(8)\n",
        "\n",
        "# Print the probability density\n",
        "print(f\"Probability density at 8 heads with 10 flips: {density_8_heads:.4f}\")\n"
      ],
      "metadata": {
        "colab": {
          "base_uri": "https://localhost:8080/"
        },
        "id": "aW5L-k3Yv1pd",
        "outputId": "94eae81b-7f7d-4145-892f-e71d9c43a996"
      },
      "execution_count": 23,
      "outputs": [
        {
          "output_type": "stream",
          "name": "stdout",
          "text": [
            "Probability density at 8 heads with 10 flips: 0.3020\n"
          ]
        }
      ]
    }
  ]
}