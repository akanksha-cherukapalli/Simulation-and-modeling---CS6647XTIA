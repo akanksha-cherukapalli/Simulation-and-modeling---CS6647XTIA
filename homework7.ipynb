{
  "nbformat": 4,
  "nbformat_minor": 0,
  "metadata": {
    "colab": {
      "provenance": [],
      "authorship_tag": "ABX9TyM7W4bVss18QPCwJInLoHln",
      "include_colab_link": true
    },
    "kernelspec": {
      "name": "python3",
      "display_name": "Python 3"
    },
    "language_info": {
      "name": "python"
    }
  },
  "cells": [
    {
      "cell_type": "markdown",
      "metadata": {
        "id": "view-in-github",
        "colab_type": "text"
      },
      "source": [
        "<a href=\"https://colab.research.google.com/github/akanksha-cherukapalli/Simulation-and-modeling---CS6647XTIA/blob/main/homework7.ipynb\" target=\"_parent\"><img src=\"https://colab.research.google.com/assets/colab-badge.svg\" alt=\"Open In Colab\"/></a>"
      ]
    },
    {
      "cell_type": "markdown",
      "source": [
        "Use SciPy Optimization to solve:\n",
        "\n",
        "Someone wants to build a cardboard box and maximize the volume by adjusting the length (L), width (W), and height (H) of the box and the same time the surface area of the box (area of 6 sides) stays no more than 10.\n",
        "\n",
        "Print optimal L, W, H, Volume and surface area."
      ],
      "metadata": {
        "id": "vKI5tPS0mfAL"
      }
    },
    {
      "cell_type": "code",
      "source": [
        "import numpy as np\n",
        "from scipy.optimize import minimize\n",
        "\n",
        "def objective_function(variables):\n",
        "    L, W, H = variables\n",
        "    volume = L * W * H\n",
        "    return -volume\n",
        "\n",
        "def constraint_surface_area(variables):\n",
        "    L, W, H = variables\n",
        "    surface_area = 2 * (L * W + L * H + W * H)\n",
        "    return 10 - surface_area\n",
        "\n",
        "# Initial guess for the dimensions of the box (L, W, H)\n",
        "initial_guess = [1, 1, 1]\n",
        "\n",
        "# Bounds for the dimensions (L, W, H)\n",
        "bounds = [(0.1, 10), (0.1, 10), (0.1, 10)]\n",
        "\n",
        "# Constraints for the optimization problem\n",
        "constraint = {'type': 'ineq', 'fun': constraint_surface_area}\n",
        "\n",
        "# Perform the optimization\n",
        "result = minimize(objective_function, initial_guess, method='SLSQP', bounds=bounds, constraints=constraint)\n",
        "\n",
        "# Extract the optimal dimensions and volume\n",
        "optimal_L, optimal_W, optimal_H = result.x\n",
        "optimal_volume = -result.fun\n",
        "optimal_surface_area = 2 * (optimal_L * optimal_W + optimal_L * optimal_H + optimal_W * optimal_H)\n",
        "\n",
        "# Print the results\n",
        "print(\"Optimal Length (L):\", optimal_L)\n",
        "print(\"Optimal Width (W):\", optimal_W)\n",
        "print(\"Optimal Height (H):\", optimal_H)\n",
        "print(\"Optimal Volume:\", optimal_volume)\n",
        "print(\"Optimal Surface Area:\", optimal_surface_area)\n",
        "\n",
        "\n",
        "\n",
        "\n"
      ],
      "metadata": {
        "colab": {
          "base_uri": "https://localhost:8080/"
        },
        "id": "rBKiP0ymmiRv",
        "outputId": "0759a904-ea2d-4658-9ff7-8cbd63128f3d"
      },
      "execution_count": 5,
      "outputs": [
        {
          "output_type": "stream",
          "name": "stdout",
          "text": [
            "Optimal Length (L): 1.2909944727867015\n",
            "Optimal Width (W): 1.290994455352175\n",
            "Optimal Height (H): 1.2909944180130968\n",
            "Optimal Volume: 2.151657414467269\n",
            "Optimal Surface Area: 9.999999999713689\n"
          ]
        }
      ]
    },
    {
      "cell_type": "code",
      "source": [],
      "metadata": {
        "id": "_hQ29by7mgN_"
      },
      "execution_count": null,
      "outputs": []
    }
  ]
}